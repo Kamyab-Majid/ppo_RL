{
 "metadata": {
  "language_info": {
   "codemirror_mode": {
    "name": "ipython",
    "version": 3
   },
   "file_extension": ".py",
   "mimetype": "text/x-python",
   "name": "python",
   "nbconvert_exporter": "python",
   "pygments_lexer": "ipython3",
   "version": "3.8.0"
  },
  "orig_nbformat": 2,
  "kernelspec": {
   "name": "python380jvsc74a57bd0ffcfff3091a847c16fc07470374681ed3f05b5fd16c9abde2e7fb436a6da7cf3",
   "display_name": "Python 3.8.0 64-bit ('attitude': conda)"
  }
 },
 "nbformat": 4,
 "nbformat_minor": 2,
 "cells": [
  {
   "cell_type": "code",
   "execution_count": 5,
   "metadata": {},
   "outputs": [],
   "source": [
    "import gym\n",
    "import envs\n",
    "import numpy as np\n",
    "from env.Helicopter import Helicopter\n",
    "from env.controller import Controller\n",
    "from finding_random_states_and_actions import state_finder\n",
    "# my_data = np.genfromtxt('best_13_action_reward.csv', delimiter=',')\n",
    "my_state_finder = state_finder()\n",
    "my_heli = Helicopter()\n",
    "my_contr = Controller()\n",
    "ENV_ID = \"CustomEnv-v0\"\n",
    "my_env = gym.make(ENV_ID)\n",
    "my_env.current_states = my_env.reset()\n",
    "current_best_rew = -100000000000"
   ]
  },
  {
   "cell_type": "code",
   "execution_count": 4,
   "metadata": {},
   "outputs": [
    {
     "output_type": "stream",
     "name": "stdout",
     "text": [
      "0.0\n0.10101010101010101\n0.20202020202020202\n0.30303030303030304\n0.40404040404040403\n0.5050505050505051\n0.6060606060606061\n0.7070707070707071\n0.8080808080808081\n0.9090909090909091\n1.0101010101010102\n1.1111111111111112\n1.2121212121212122\n1.3131313131313131\n1.4141414141414141\n1.5151515151515151\n1.6161616161616161\n1.7171717171717171\n1.8181818181818181\n1.9191919191919191\n2.0202020202020203\n2.121212121212121\n2.2222222222222223\n2.323232323232323\n2.4242424242424243\n2.525252525252525\n2.6262626262626263\n2.727272727272727\n2.8282828282828283\n2.929292929292929\n3.0303030303030303\n3.131313131313131\n3.2323232323232323\n3.3333333333333335\n3.4343434343434343\n3.5353535353535355\n3.6363636363636362\n3.7373737373737375\n3.8383838383838382\n3.9393939393939394\n4.040404040404041\n4.141414141414141\n4.242424242424242\n4.343434343434343\n4.444444444444445\n4.545454545454545\n4.646464646464646\n4.747474747474747\n4.848484848484849\n4.94949494949495\n5.05050505050505\n5.151515151515151\n5.252525252525253\n5.353535353535354\n5.454545454545454\n5.555555555555555\n5.656565656565657\n5.757575757575758\n5.858585858585858\n5.959595959595959\n6.0606060606060606\n6.161616161616162\n6.262626262626262\n6.363636363636363\n6.4646464646464645\n6.565656565656566\n6.666666666666667\n6.767676767676767\n6.8686868686868685\n6.96969696969697\n7.070707070707071\n7.171717171717171\n7.2727272727272725\n7.373737373737374\n7.474747474747475\n7.575757575757575\n7.6767676767676765\n7.777777777777778\n7.878787878787879\n7.979797979797979\n8.080808080808081\n8.181818181818182\n8.282828282828282\n8.383838383838384\n8.484848484848484\n8.585858585858587\n8.686868686868687\n8.787878787878787\n8.88888888888889\n8.98989898989899\n9.09090909090909\n9.191919191919192\n9.292929292929292\n9.393939393939394\n9.494949494949495\n9.595959595959595\n9.696969696969697\n9.797979797979798\n9.8989898989899\n"
     ]
    }
   ],
   "source": [
    "import numpy\n",
    "act_1 = numpy.linspace(0.1, 5.0, 10) 1, \n",
    "act_2 = numpy.linspace(0.1, 5.0, 10) 10, \n",
    "act_3 = numpy.linspace(5, 15, 10) 10, \n",
    "act_4 = numpy.linspace(5, 15, 10) 5, \n",
    "act_5 = numpy.linspace(2, 7, 10) 5,\n",
    "act_6 = numpy.linspace(2, 7, 10)  1, \n",
    "act_7 = numpy.linspace(0.1, 5, 10) 1, \n",
    "act_8 = numpy.linspace(0.1, 5, 10) 2, \n",
    "act_9 = numpy.linspace(0.1, 5, 10) 2, \n",
    "act_10 = numpy.linspace(0.1, 5, 10) 1\n",
    "act_11 = numpy.linspace(0.1, 5, 10)  1\n",
    "act_12 = numpy.linspace(0.1, 5.0, 10) 1\n",
    "act_13 = numpy.linspace(0.1, 5.0, 10) 1\n",
    "for i in range(len(act_1)-1):\n",
    "    act1 = act_1[i]\n",
    "    for j in range(len(act_2)-1):\n",
    "        act2 = act_2[j]\n",
    "        for k in range(len(act_3)-1):\n",
    "            act3 = act_3[k]\n",
    "            for l in range(len(act_4)-1):\n",
    "                act4 = act_4[l]\n",
    "                for m in range(len(act_5)-1):\n",
    "                    act5 = act_5[m]\n",
    "                    for n in range(len(act_6)-1):\n",
    "                        act6 = act_6[n]\n",
    "                        for o in range(len(act_7)-1):\n",
    "                            act7 = act_7[o]\n",
    "                            for p in range(len(act_8)-1):\n",
    "                                act8 = act_8[p]\n",
    "                                for q in range(len(act_9)-1):\n",
    "                                    act9 = act_9[q]\n",
    "                                    for r in range(len(act_10)-1):\n",
    "                                        act10 = act_10[r]\n",
    "                                        for s in range(len(act_11)-1):\n",
    "                                            act11 = act_11[s]\n",
    "                                            for t in range(len(act_12)-1):\n",
    "                                                act12 = act_12[t]\n",
    "                                                for u in range(len(act_13)-1):\n",
    "                                                    act13 = act_13[u]\n",
    "                                                    sl_action = [act1,act2,act3,act4,act5,act6,act7,act8,act9,act10,,act11,act12,act13]\n",
    "                                                    current_action = my_contr.Controller_model(my_env.current_states, my_env.dt*my_env.counter, action=[1, 10, 10, 5, 5, 1, 1, 2, 2, 1, 1, 1, 1])\n",
    "                                                    while not done:\n",
    "                                                        a,b,done,_ = my_env.step(current_action)\n",
    "                                                    else:\n",
    "                                                        if my_env.best_reward>current_best_rew:\n",
    "                                                            current_best_rew = my_env.best_reward\n",
    "                                                            print(sl_action)\n",
    "                                                    \n",
    "                                                    \n",
    "                                                        \n",
    "\n",
    "\n",
    "\n",
    "\n",
    "\n",
    "\n"
   ]
  },
  {
   "cell_type": "code",
   "execution_count": null,
   "metadata": {},
   "outputs": [],
   "source": []
  },
  {
   "cell_type": "code",
   "execution_count": 2,
   "metadata": {},
   "outputs": [],
   "source": [
    "import numpy as np"
   ]
  },
  {
   "cell_type": "code",
   "execution_count": 4,
   "metadata": {},
   "outputs": [],
   "source": [
    "all_obs = np.zeros((100, 3))"
   ]
  },
  {
   "cell_type": "code",
   "execution_count": 21,
   "metadata": {},
   "outputs": [],
   "source": [
    "all_obs[0]=[5,6,7]"
   ]
  },
  {
   "cell_type": "code",
   "execution_count": 22,
   "metadata": {},
   "outputs": [],
   "source": [
    "all_obs[1] = [7,8,9]"
   ]
  },
  {
   "cell_type": "code",
   "execution_count": 23,
   "metadata": {},
   "outputs": [
    {
     "output_type": "execute_result",
     "data": {
      "text/plain": [
       "array([[5., 6., 7.],\n",
       "       [7., 8., 9.]])"
      ]
     },
     "metadata": {},
     "execution_count": 23
    }
   ],
   "source": [
    "all_obs[0:2]"
   ]
  },
  {
   "cell_type": "code",
   "execution_count": 30,
   "metadata": {},
   "outputs": [
    {
     "output_type": "stream",
     "name": "stdout",
     "text": [
      "0\n1\n2\n"
     ]
    }
   ],
   "source": [
    "for i in range(3):\n",
    "    print(i)\n",
    "    all_obs[2,i] = (all_obs[0,i]+1)/max(all_obs[:,i])"
   ]
  },
  {
   "cell_type": "code",
   "execution_count": 31,
   "metadata": {},
   "outputs": [
    {
     "output_type": "execute_result",
     "data": {
      "text/plain": [
       "array([[5.        , 6.        , 7.        ],\n",
       "       [7.        , 8.        , 9.        ],\n",
       "       [0.85714286, 0.875     , 0.88888889]])"
      ]
     },
     "metadata": {},
     "execution_count": 31
    }
   ],
   "source": [
    "all_obs[0:3]"
   ]
  },
  {
   "cell_type": "code",
   "execution_count": 33,
   "metadata": {},
   "outputs": [
    {
     "output_type": "execute_result",
     "data": {
      "text/plain": [
       "8.0"
      ]
     },
     "metadata": {},
     "execution_count": 33
    }
   ],
   "source": [
    "max(all_obs[:,1])"
   ]
  },
  {
   "cell_type": "code",
   "execution_count": null,
   "metadata": {},
   "outputs": [],
   "source": []
  }
 ]
}